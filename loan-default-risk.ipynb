{
 "cells": [
  {
   "cell_type": "code",
   "execution_count": 1,
   "metadata": {
    "scrolled": true
   },
   "outputs": [
    {
     "name": "stdout",
     "output_type": "stream",
     "text": [
      "Requirement already satisfied: xgboost in c:\\users\\acer\\anaconda3\\lib\\site-packages (1.4.0)\n",
      "Requirement already satisfied: numpy in c:\\users\\acer\\anaconda3\\lib\\site-packages (from xgboost) (1.19.5)\n",
      "Requirement already satisfied: scipy in c:\\users\\acer\\anaconda3\\lib\\site-packages (from xgboost) (1.1.0)\n"
     ]
    },
    {
     "name": "stderr",
     "output_type": "stream",
     "text": [
      "distributed 1.21.8 requires msgpack, which is not installed.\n",
      "You are using pip version 10.0.1, however version 21.0.1 is available.\n",
      "You should consider upgrading via the 'python -m pip install --upgrade pip' command.\n"
     ]
    }
   ],
   "source": [
    "import sys\n",
    "!{sys.executable} -m pip install xgboost\n",
    "import numpy as np\n",
    "import pandas as pd\n",
    "from numpy import mean\n",
    "from numpy import std\n",
    "\n",
    "import matplotlib.pyplot as plt\n",
    "%matplotlib inline\n",
    "import seaborn as sns\n",
    "plt.style.use('ggplot')\n",
    "\n",
    "from scipy.stats import norm\n",
    "from sklearn.preprocessing import StandardScaler\n",
    "from scipy import stats\n",
    "\n",
    "import warnings\n",
    "warnings.filterwarnings('ignore')\n",
    "\n",
    "import itertools\n",
    "\n",
    "from sklearn.linear_model import LogisticRegression\n",
    "from sklearn.ensemble import RandomForestClassifier, VotingClassifier\n",
    "from sklearn.model_selection import StratifiedKFold\n",
    "from sklearn.metrics import precision_score, recall_score, confusion_matrix, classification_report, roc_curve, precision_recall_curve"
   ]
  },
  {
   "cell_type": "code",
   "execution_count": 2,
   "metadata": {},
   "outputs": [
    {
     "name": "stdout",
     "output_type": "stream",
     "text": [
      " Shape of training dataframe:  (252000, 13)\n",
      " Shape of testing dataframe:  (28000, 12)\n",
      "(252000, 13)\n",
      "(28000, 12)\n"
     ]
    }
   ],
   "source": [
    "        \n",
    "test = pd.read_csv('C:/Users/Acer/Desktop/Univ Ai/Test Data.csv')\n",
    "train = pd.read_csv('C:/Users/Acer/Desktop/Univ Ai/Training Data.csv')\n",
    "\n",
    "\n",
    "#Shape of dataframe\n",
    "print(\" Shape of training dataframe: \", train.shape)\n",
    "print(\" Shape of testing dataframe: \", test.shape)\n",
    "\n",
    "\n",
    "print(train.shape)\n",
    "print(test.shape)"
   ]
  },
  {
   "cell_type": "code",
   "execution_count": 3,
   "metadata": {},
   "outputs": [
    {
     "name": "stdout",
     "output_type": "stream",
     "text": [
      "names of columns ['Id', 'income', 'age', 'experience', 'married', 'house_ownership', 'car_ownership', 'profession', 'city', 'state', 'current_job_years', 'current_house_years', 'risk_flag']\n",
      "   risk_flag      Id\n",
      "0          0  221004\n",
      "1          1   30996\n"
     ]
    }
   ],
   "source": [
    "print(\"names of columns\", list(train.columns))\n",
    "class_train = train.groupby('risk_flag').count()['Id'].reset_index().sort_values(by='Id',ascending=False)\n",
    "print(class_train)"
   ]
  },
  {
   "cell_type": "code",
   "execution_count": 4,
   "metadata": {},
   "outputs": [
    {
     "name": "stdout",
     "output_type": "stream",
     "text": [
      "experience            -0.034523\n",
      "age                   -0.021809\n",
      "current_job_years     -0.016942\n",
      "current_house_years   -0.004375\n",
      "income                -0.003091\n",
      "Id                     0.032153\n",
      "risk_flag              1.000000\n",
      "Name: risk_flag, dtype: float64 \n",
      "\n"
     ]
    }
   ],
   "source": [
    "correlations_data = train.corr()['risk_flag'].sort_values()\n",
    "print(correlations_data, '\\n')"
   ]
  },
  {
   "cell_type": "code",
   "execution_count": 5,
   "metadata": {},
   "outputs": [],
   "source": [
    "#test.income=test.income.apply(lambda x: np.log10(x))\n",
    "#train.income=test.income.apply(lambda x: np.log10(x))\n",
    "test['income_log'] = np.log(test['income'])\n",
    "train['income_log'] = np.log(train['income'])"
   ]
  },
  {
   "cell_type": "code",
   "execution_count": 6,
   "metadata": {},
   "outputs": [],
   "source": [
    "test.state=test.state.apply(lambda x:x.replace(\" \", \"_\"))\n",
    "test.city=test.city.apply(lambda x:x.replace(\" \", \"_\"))\n",
    "test.profession=test.profession.apply(lambda x:x.replace(\" \",\"_\"))"
   ]
  },
  {
   "cell_type": "code",
   "execution_count": 7,
   "metadata": {},
   "outputs": [],
   "source": [
    "train['state'] = np.where(train['state'] == 'Uttar_Pradesh[5]', 'Uttar_Pradesh', train['state'])\n",
    "test['state'] = np.where(test['state'] == 'Uttar_Pradesh[5]', 'Uttar_Pradesh', test['state'])"
   ]
  },
  {
   "cell_type": "code",
   "execution_count": 8,
   "metadata": {},
   "outputs": [],
   "source": [
    "state_risk_percent = pd.DataFrame(train.groupby(['state'])['risk_flag'].sum()/train.groupby(['state'])['risk_flag'].count()).reset_index()"
   ]
  },
  {
   "cell_type": "code",
   "execution_count": 9,
   "metadata": {},
   "outputs": [],
   "source": [
    "state_risk_percent.columns = ['state', 'state_risk_percent']"
   ]
  },
  {
   "cell_type": "code",
   "execution_count": 10,
   "metadata": {},
   "outputs": [],
   "source": [
    "train = pd.merge(train, state_risk_percent, how = 'left', on = 'state')\n",
    "test = pd.merge(test, state_risk_percent, how = 'left', on = 'state')"
   ]
  },
  {
   "cell_type": "code",
   "execution_count": 11,
   "metadata": {},
   "outputs": [
    {
     "data": {
      "text/plain": [
       "array(['Mechanical_engineer', 'Software_Developer', 'Technical_writer',\n",
       "       'Civil_servant', 'Librarian', 'Economist', 'Flight_attendant',\n",
       "       'Architect', 'Designer', 'Physician', 'Financial_Analyst',\n",
       "       'Air_traffic_controller', 'Politician', 'Police_officer', 'Artist',\n",
       "       'Surveyor', 'Design_Engineer', 'Chemical_engineer',\n",
       "       'Hotel_Manager', 'Dentist', 'Comedian', 'Biomedical_Engineer',\n",
       "       'Graphic_Designer', 'Computer_hardware_engineer',\n",
       "       'Petroleum_Engineer', 'Secretary', 'Computer_operator',\n",
       "       'Chartered_Accountant', 'Technician', 'Microbiologist',\n",
       "       'Fashion_Designer', 'Aviator', 'Psychologist', 'Magistrate',\n",
       "       'Lawyer', 'Firefighter', 'Engineer', 'Official', 'Analyst',\n",
       "       'Geologist', 'Drafter', 'Statistician', 'Web_designer',\n",
       "       'Consultant', 'Chef', 'Army_officer', 'Surgeon', 'Scientist',\n",
       "       'Civil_engineer', 'Industrial_Engineer', 'Technology_specialist'],\n",
       "      dtype=object)"
      ]
     },
     "execution_count": 11,
     "metadata": {},
     "output_type": "execute_result"
    }
   ],
   "source": [
    "train['profession'].unique()"
   ]
  },
  {
   "cell_type": "code",
   "execution_count": 12,
   "metadata": {},
   "outputs": [],
   "source": [
    "train['profession'] = np.where(train['profession'] == 'Mechanical_engineer','Engineer', train['profession'])\n",
    "train['profession'] = np.where(train['profession'] == 'Design_Engineer','Engineer', train['profession'])\n",
    "train['profession'] = np.where(train['profession'] == 'Chemical_engineer','Engineer', train['profession'])\n",
    "train['profession'] = np.where(train['profession'] == 'Biomedical_Engineer','Engineer', train['profession'])\n",
    "train['profession'] = np.where(train['profession'] == 'Computer_hardware_engineer','Engineer', train['profession'])\n",
    "train['profession'] = np.where(train['profession'] == 'Petroleum_Engineer','Engineer', train['profession'])\n",
    "train['profession'] = np.where(train['profession'] == 'Industrial_Engineer','Engineer', train['profession'])\n",
    "train['profession'] = np.where(train['profession'] == 'Civil_engineer','Engineer', train['profession'])\n",
    "\n",
    "test['profession'] = np.where(test['profession'] == 'Mechanical_engineer','Engineer', test['profession'])\n",
    "test['profession'] = np.where(test['profession'] == 'Design_Engineer','Engineer', test['profession'])\n",
    "test['profession'] = np.where(test['profession'] == 'Chemical_engineer','Engineer', test['profession'])\n",
    "test['profession'] = np.where(test['profession'] == 'Biomedical_Engineer','Engineer', test['profession'])\n",
    "test['profession'] = np.where(test['profession'] == 'Computer_hardware_engineer','Engineer', test['profession'])\n",
    "test['profession'] = np.where(test['profession'] == 'Petroleum_Engineer','Engineer', test['profession'])\n",
    "test['profession'] = np.where(test['profession'] == 'Industrial_Engineer','Engineer', test['profession'])\n",
    "test['profession'] = np.where(test['profession'] == 'Civil_engineer','Engineer', test['profession'])\n",
    "\n",
    "\n",
    "train['profession'] = np.where(train['profession'] == 'Fashion_Designer','Designer', train['profession'])\n",
    "train['profession'] = np.where(train['profession'] == 'Graphic_Designer','Designer', train['profession'])\n",
    "train['profession'] = np.where(train['profession'] == 'Web_designer','Designer', train['profession'])\n",
    "\n",
    "test['profession'] = np.where(test['profession'] == 'Fashion_Designer','Designer', test['profession'])\n",
    "test['profession'] = np.where(test['profession'] == 'Graphic_Designer','Designer', test['profession'])\n",
    "test['profession'] = np.where(test['profession'] == 'Web_designer','Designer', test['profession'])\n",
    "\n",
    "train['profession'] = np.where(train['profession'] == 'Financial_Analyst','Analyst', train['profession'])\n",
    "train['profession'] = np.where(train['profession'] == 'Consultant','Analyst', train['profession'])\n",
    "\n",
    "test['profession'] = np.where(test['profession'] == 'Financial_Analyst','Analyst', test['profession'])\n",
    "test['profession'] = np.where(test['profession'] == 'Consultant','Analyst', test['profession'])"
   ]
  },
  {
   "cell_type": "code",
   "execution_count": 13,
   "metadata": {},
   "outputs": [],
   "source": [
    "profession_risk_percent =  pd.DataFrame(train.groupby(['profession'])['risk_flag'].sum()/train.groupby(['profession'])['risk_flag'].count()).reset_index()"
   ]
  },
  {
   "cell_type": "code",
   "execution_count": 14,
   "metadata": {},
   "outputs": [],
   "source": [
    "profession_risk_percent.columns = ['profession', 'profession_risk_percent']"
   ]
  },
  {
   "cell_type": "code",
   "execution_count": 15,
   "metadata": {},
   "outputs": [],
   "source": [
    "train = pd.merge(train, profession_risk_percent, how = 'left', on = 'profession')\n",
    "test = pd.merge(test, profession_risk_percent, how = 'left', on = 'profession')"
   ]
  },
  {
   "cell_type": "code",
   "execution_count": 16,
   "metadata": {},
   "outputs": [
    {
     "data": {
      "text/plain": [
       "array(['Engineer', 'Software_Developer', 'Technical_writer',\n",
       "       'Civil_servant', 'Librarian', 'Economist', 'Flight_attendant',\n",
       "       'Architect', 'Designer', 'Physician', 'Analyst',\n",
       "       'Air_traffic_controller', 'Politician', 'Police_officer', 'Artist',\n",
       "       'Surveyor', 'Hotel_Manager', 'Dentist', 'Comedian', 'Secretary',\n",
       "       'Computer_operator', 'Chartered_Accountant', 'Technician',\n",
       "       'Microbiologist', 'Aviator', 'Psychologist', 'Magistrate',\n",
       "       'Lawyer', 'Firefighter', 'Official', 'Geologist', 'Drafter',\n",
       "       'Statistician', 'Chef', 'Army_officer', 'Surgeon', 'Scientist',\n",
       "       'Technology_specialist'], dtype=object)"
      ]
     },
     "execution_count": 16,
     "metadata": {},
     "output_type": "execute_result"
    }
   ],
   "source": [
    "# test.state.value_counts()\n",
    "train['profession'].unique()"
   ]
  },
  {
   "cell_type": "code",
   "execution_count": 17,
   "metadata": {},
   "outputs": [
    {
     "data": {
      "text/plain": [
       "count    28000.000000\n",
       "mean         0.122905\n",
       "std          0.017576\n",
       "min          0.046053\n",
       "25%          0.113254\n",
       "50%          0.118039\n",
       "75%          0.130586\n",
       "max          0.215548\n",
       "Name: state_risk_percent, dtype: float64"
      ]
     },
     "execution_count": 17,
     "metadata": {},
     "output_type": "execute_result"
    }
   ],
   "source": [
    "test['state_risk_percent'].describe()"
   ]
  },
  {
   "cell_type": "code",
   "execution_count": 18,
   "metadata": {},
   "outputs": [
    {
     "data": {
      "text/plain": [
       "Series([], Name: state, dtype: object)"
      ]
     },
     "execution_count": 18,
     "metadata": {},
     "output_type": "execute_result"
    }
   ],
   "source": [
    "test.loc[pd.isnull(test['state_risk_percent']), 'state']"
   ]
  },
  {
   "cell_type": "code",
   "execution_count": 19,
   "metadata": {},
   "outputs": [],
   "source": [
    "train.drop('state', axis =1, inplace = True)\n",
    "test.drop('state', axis =1, inplace = True)\n",
    "train.drop('profession', axis =1, inplace = True)\n",
    "test.drop('profession', axis =1, inplace = True)"
   ]
  },
  {
   "cell_type": "code",
   "execution_count": 20,
   "metadata": {},
   "outputs": [
    {
     "data": {
      "text/html": [
       "<div>\n",
       "<style scoped>\n",
       "    .dataframe tbody tr th:only-of-type {\n",
       "        vertical-align: middle;\n",
       "    }\n",
       "\n",
       "    .dataframe tbody tr th {\n",
       "        vertical-align: top;\n",
       "    }\n",
       "\n",
       "    .dataframe thead th {\n",
       "        text-align: right;\n",
       "    }\n",
       "</style>\n",
       "<table border=\"1\" class=\"dataframe\">\n",
       "  <thead>\n",
       "    <tr style=\"text-align: right;\">\n",
       "      <th></th>\n",
       "      <th>Id</th>\n",
       "      <th>income</th>\n",
       "      <th>age</th>\n",
       "      <th>experience</th>\n",
       "      <th>married</th>\n",
       "      <th>house_ownership</th>\n",
       "      <th>car_ownership</th>\n",
       "      <th>city</th>\n",
       "      <th>current_job_years</th>\n",
       "      <th>current_house_years</th>\n",
       "      <th>risk_flag</th>\n",
       "      <th>income_log</th>\n",
       "      <th>state_risk_percent</th>\n",
       "      <th>profession_risk_percent</th>\n",
       "    </tr>\n",
       "  </thead>\n",
       "  <tbody>\n",
       "  </tbody>\n",
       "</table>\n",
       "</div>"
      ],
      "text/plain": [
       "Empty DataFrame\n",
       "Columns: [Id, income, age, experience, married, house_ownership, car_ownership, city, current_job_years, current_house_years, risk_flag, income_log, state_risk_percent, profession_risk_percent]\n",
       "Index: []"
      ]
     },
     "execution_count": 20,
     "metadata": {},
     "output_type": "execute_result"
    }
   ],
   "source": [
    "train[np.isinf(train['state_risk_percent'])]"
   ]
  },
  {
   "cell_type": "code",
   "execution_count": 21,
   "metadata": {},
   "outputs": [
    {
     "data": {
      "text/html": [
       "<div>\n",
       "<style scoped>\n",
       "    .dataframe tbody tr th:only-of-type {\n",
       "        vertical-align: middle;\n",
       "    }\n",
       "\n",
       "    .dataframe tbody tr th {\n",
       "        vertical-align: top;\n",
       "    }\n",
       "\n",
       "    .dataframe thead th {\n",
       "        text-align: right;\n",
       "    }\n",
       "</style>\n",
       "<table border=\"1\" class=\"dataframe\">\n",
       "  <thead>\n",
       "    <tr style=\"text-align: right;\">\n",
       "      <th></th>\n",
       "      <th>Id</th>\n",
       "      <th>income</th>\n",
       "      <th>age</th>\n",
       "      <th>experience</th>\n",
       "      <th>married</th>\n",
       "      <th>house_ownership</th>\n",
       "      <th>car_ownership</th>\n",
       "      <th>city</th>\n",
       "      <th>current_job_years</th>\n",
       "      <th>current_house_years</th>\n",
       "      <th>risk_flag</th>\n",
       "      <th>income_log</th>\n",
       "      <th>state_risk_percent</th>\n",
       "      <th>profession_risk_percent</th>\n",
       "    </tr>\n",
       "  </thead>\n",
       "  <tbody>\n",
       "    <tr>\n",
       "      <th>0</th>\n",
       "      <td>1</td>\n",
       "      <td>1303835</td>\n",
       "      <td>23</td>\n",
       "      <td>3</td>\n",
       "      <td>single</td>\n",
       "      <td>rented</td>\n",
       "      <td>no</td>\n",
       "      <td>Rewa</td>\n",
       "      <td>3</td>\n",
       "      <td>13</td>\n",
       "      <td>0</td>\n",
       "      <td>14.080820</td>\n",
       "      <td>0.154369</td>\n",
       "      <td>0.113552</td>\n",
       "    </tr>\n",
       "    <tr>\n",
       "      <th>1</th>\n",
       "      <td>2</td>\n",
       "      <td>7574516</td>\n",
       "      <td>40</td>\n",
       "      <td>10</td>\n",
       "      <td>single</td>\n",
       "      <td>rented</td>\n",
       "      <td>no</td>\n",
       "      <td>Parbhani</td>\n",
       "      <td>9</td>\n",
       "      <td>13</td>\n",
       "      <td>0</td>\n",
       "      <td>15.840300</td>\n",
       "      <td>0.113254</td>\n",
       "      <td>0.148427</td>\n",
       "    </tr>\n",
       "    <tr>\n",
       "      <th>2</th>\n",
       "      <td>3</td>\n",
       "      <td>3991815</td>\n",
       "      <td>66</td>\n",
       "      <td>4</td>\n",
       "      <td>married</td>\n",
       "      <td>rented</td>\n",
       "      <td>no</td>\n",
       "      <td>Alappuzha</td>\n",
       "      <td>4</td>\n",
       "      <td>10</td>\n",
       "      <td>0</td>\n",
       "      <td>15.199757</td>\n",
       "      <td>0.167097</td>\n",
       "      <td>0.134167</td>\n",
       "    </tr>\n",
       "    <tr>\n",
       "      <th>3</th>\n",
       "      <td>4</td>\n",
       "      <td>6256451</td>\n",
       "      <td>41</td>\n",
       "      <td>2</td>\n",
       "      <td>single</td>\n",
       "      <td>rented</td>\n",
       "      <td>yes</td>\n",
       "      <td>Bhubaneswar</td>\n",
       "      <td>2</td>\n",
       "      <td>12</td>\n",
       "      <td>1</td>\n",
       "      <td>15.649124</td>\n",
       "      <td>0.142550</td>\n",
       "      <td>0.148427</td>\n",
       "    </tr>\n",
       "    <tr>\n",
       "      <th>4</th>\n",
       "      <td>5</td>\n",
       "      <td>5768871</td>\n",
       "      <td>47</td>\n",
       "      <td>11</td>\n",
       "      <td>single</td>\n",
       "      <td>rented</td>\n",
       "      <td>no</td>\n",
       "      <td>Tiruchirappalli[10]</td>\n",
       "      <td>3</td>\n",
       "      <td>14</td>\n",
       "      <td>1</td>\n",
       "      <td>15.567987</td>\n",
       "      <td>0.103163</td>\n",
       "      <td>0.115794</td>\n",
       "    </tr>\n",
       "  </tbody>\n",
       "</table>\n",
       "</div>"
      ],
      "text/plain": [
       "   Id   income  age  experience  married house_ownership car_ownership  \\\n",
       "0   1  1303835   23           3   single          rented            no   \n",
       "1   2  7574516   40          10   single          rented            no   \n",
       "2   3  3991815   66           4  married          rented            no   \n",
       "3   4  6256451   41           2   single          rented           yes   \n",
       "4   5  5768871   47          11   single          rented            no   \n",
       "\n",
       "                  city  current_job_years  current_house_years  risk_flag  \\\n",
       "0                 Rewa                  3                   13          0   \n",
       "1             Parbhani                  9                   13          0   \n",
       "2            Alappuzha                  4                   10          0   \n",
       "3          Bhubaneswar                  2                   12          1   \n",
       "4  Tiruchirappalli[10]                  3                   14          1   \n",
       "\n",
       "   income_log  state_risk_percent  profession_risk_percent  \n",
       "0   14.080820            0.154369                 0.113552  \n",
       "1   15.840300            0.113254                 0.148427  \n",
       "2   15.199757            0.167097                 0.134167  \n",
       "3   15.649124            0.142550                 0.148427  \n",
       "4   15.567987            0.103163                 0.115794  "
      ]
     },
     "execution_count": 21,
     "metadata": {},
     "output_type": "execute_result"
    }
   ],
   "source": [
    "train.head()"
   ]
  },
  {
   "cell_type": "code",
   "execution_count": 22,
   "metadata": {},
   "outputs": [],
   "source": [
    "city_risk_percent = pd.DataFrame(train.groupby(['city'])['risk_flag'].sum()/train.groupby(['city'])['risk_flag'].count()).reset_index()\n",
    "city_risk_percent.columns = ['city', 'city_risk_percent']"
   ]
  },
  {
   "cell_type": "code",
   "execution_count": 23,
   "metadata": {},
   "outputs": [],
   "source": [
    "train = pd.merge(train, city_risk_percent, how = 'left', on = 'city')\n",
    "test = pd.merge(test, city_risk_percent, how = 'left', on = 'city')"
   ]
  },
  {
   "cell_type": "code",
   "execution_count": 24,
   "metadata": {},
   "outputs": [
    {
     "data": {
      "text/plain": [
       "0"
      ]
     },
     "execution_count": 24,
     "metadata": {},
     "output_type": "execute_result"
    }
   ],
   "source": [
    "\n",
    "test[np.isinf(test['city_risk_percent'])]\n",
    "test['city_risk_percent'].isnull().sum()"
   ]
  },
  {
   "cell_type": "code",
   "execution_count": 25,
   "metadata": {},
   "outputs": [],
   "source": [
    "# test.loc[pd.isnull(test['city_risk_percent']), 'city'].unique()"
   ]
  },
  {
   "cell_type": "code",
   "execution_count": 26,
   "metadata": {},
   "outputs": [
    {
     "data": {
      "text/plain": [
       "array([1303835, 7574516, 3991815, ..., 2843572, 4522448, 9070230],\n",
       "      dtype=int64)"
      ]
     },
     "execution_count": 26,
     "metadata": {},
     "output_type": "execute_result"
    }
   ],
   "source": [
    "train['income'].unique()"
   ]
  },
  {
   "cell_type": "code",
   "execution_count": 27,
   "metadata": {},
   "outputs": [],
   "source": [
    "train.drop('city', axis =1, inplace = True)\n",
    "test.drop('city', axis =1, inplace = True)"
   ]
  },
  {
   "cell_type": "code",
   "execution_count": 28,
   "metadata": {},
   "outputs": [
    {
     "data": {
      "text/html": [
       "<div>\n",
       "<style scoped>\n",
       "    .dataframe tbody tr th:only-of-type {\n",
       "        vertical-align: middle;\n",
       "    }\n",
       "\n",
       "    .dataframe tbody tr th {\n",
       "        vertical-align: top;\n",
       "    }\n",
       "\n",
       "    .dataframe thead th {\n",
       "        text-align: right;\n",
       "    }\n",
       "</style>\n",
       "<table border=\"1\" class=\"dataframe\">\n",
       "  <thead>\n",
       "    <tr style=\"text-align: right;\">\n",
       "      <th></th>\n",
       "      <th>Id</th>\n",
       "      <th>income</th>\n",
       "      <th>age</th>\n",
       "      <th>experience</th>\n",
       "      <th>married</th>\n",
       "      <th>house_ownership</th>\n",
       "      <th>car_ownership</th>\n",
       "      <th>current_job_years</th>\n",
       "      <th>current_house_years</th>\n",
       "      <th>risk_flag</th>\n",
       "      <th>income_log</th>\n",
       "      <th>state_risk_percent</th>\n",
       "      <th>profession_risk_percent</th>\n",
       "      <th>city_risk_percent</th>\n",
       "    </tr>\n",
       "  </thead>\n",
       "  <tbody>\n",
       "  </tbody>\n",
       "</table>\n",
       "</div>"
      ],
      "text/plain": [
       "Empty DataFrame\n",
       "Columns: [Id, income, age, experience, married, house_ownership, car_ownership, current_job_years, current_house_years, risk_flag, income_log, state_risk_percent, profession_risk_percent, city_risk_percent]\n",
       "Index: []"
      ]
     },
     "execution_count": 28,
     "metadata": {},
     "output_type": "execute_result"
    }
   ],
   "source": [
    "train[np.isinf(train['city_risk_percent'])]"
   ]
  },
  {
   "cell_type": "code",
   "execution_count": 29,
   "metadata": {},
   "outputs": [
    {
     "data": {
      "text/plain": [
       "0"
      ]
     },
     "execution_count": 29,
     "metadata": {},
     "output_type": "execute_result"
    }
   ],
   "source": [
    "train['city_risk_percent'].isnull().sum()"
   ]
  },
  {
   "cell_type": "code",
   "execution_count": 30,
   "metadata": {},
   "outputs": [
    {
     "data": {
      "text/plain": [
       "count    28000.000000\n",
       "mean         0.122755\n",
       "std          0.047434\n",
       "min          0.026114\n",
       "25%          0.089186\n",
       "50%          0.119821\n",
       "75%          0.146497\n",
       "max          0.326194\n",
       "Name: city_risk_percent, dtype: float64"
      ]
     },
     "execution_count": 30,
     "metadata": {},
     "output_type": "execute_result"
    }
   ],
   "source": [
    "test['city_risk_percent'].describe()"
   ]
  },
  {
   "cell_type": "code",
   "execution_count": 31,
   "metadata": {},
   "outputs": [],
   "source": [
    "train=pd.get_dummies(train)\n",
    "test=pd.get_dummies(test)"
   ]
  },
  {
   "cell_type": "code",
   "execution_count": 32,
   "metadata": {},
   "outputs": [
    {
     "data": {
      "text/html": [
       "<div>\n",
       "<style scoped>\n",
       "    .dataframe tbody tr th:only-of-type {\n",
       "        vertical-align: middle;\n",
       "    }\n",
       "\n",
       "    .dataframe tbody tr th {\n",
       "        vertical-align: top;\n",
       "    }\n",
       "\n",
       "    .dataframe thead th {\n",
       "        text-align: right;\n",
       "    }\n",
       "</style>\n",
       "<table border=\"1\" class=\"dataframe\">\n",
       "  <thead>\n",
       "    <tr style=\"text-align: right;\">\n",
       "      <th></th>\n",
       "      <th>Id</th>\n",
       "      <th>income</th>\n",
       "      <th>age</th>\n",
       "      <th>experience</th>\n",
       "      <th>current_job_years</th>\n",
       "      <th>current_house_years</th>\n",
       "      <th>risk_flag</th>\n",
       "      <th>income_log</th>\n",
       "      <th>state_risk_percent</th>\n",
       "      <th>profession_risk_percent</th>\n",
       "      <th>city_risk_percent</th>\n",
       "      <th>married_married</th>\n",
       "      <th>married_single</th>\n",
       "      <th>house_ownership_norent_noown</th>\n",
       "      <th>house_ownership_owned</th>\n",
       "      <th>house_ownership_rented</th>\n",
       "      <th>car_ownership_no</th>\n",
       "      <th>car_ownership_yes</th>\n",
       "    </tr>\n",
       "  </thead>\n",
       "  <tbody>\n",
       "    <tr>\n",
       "      <th>0</th>\n",
       "      <td>1</td>\n",
       "      <td>1303835</td>\n",
       "      <td>23</td>\n",
       "      <td>3</td>\n",
       "      <td>3</td>\n",
       "      <td>13</td>\n",
       "      <td>0</td>\n",
       "      <td>14.080820</td>\n",
       "      <td>0.154369</td>\n",
       "      <td>0.113552</td>\n",
       "      <td>0.121554</td>\n",
       "      <td>0</td>\n",
       "      <td>1</td>\n",
       "      <td>0</td>\n",
       "      <td>0</td>\n",
       "      <td>1</td>\n",
       "      <td>1</td>\n",
       "      <td>0</td>\n",
       "    </tr>\n",
       "    <tr>\n",
       "      <th>1</th>\n",
       "      <td>2</td>\n",
       "      <td>7574516</td>\n",
       "      <td>40</td>\n",
       "      <td>10</td>\n",
       "      <td>9</td>\n",
       "      <td>13</td>\n",
       "      <td>0</td>\n",
       "      <td>15.840300</td>\n",
       "      <td>0.113254</td>\n",
       "      <td>0.148427</td>\n",
       "      <td>0.122497</td>\n",
       "      <td>0</td>\n",
       "      <td>1</td>\n",
       "      <td>0</td>\n",
       "      <td>0</td>\n",
       "      <td>1</td>\n",
       "      <td>1</td>\n",
       "      <td>0</td>\n",
       "    </tr>\n",
       "    <tr>\n",
       "      <th>2</th>\n",
       "      <td>3</td>\n",
       "      <td>3991815</td>\n",
       "      <td>66</td>\n",
       "      <td>4</td>\n",
       "      <td>4</td>\n",
       "      <td>10</td>\n",
       "      <td>0</td>\n",
       "      <td>15.199757</td>\n",
       "      <td>0.167097</td>\n",
       "      <td>0.134167</td>\n",
       "      <td>0.130814</td>\n",
       "      <td>1</td>\n",
       "      <td>0</td>\n",
       "      <td>0</td>\n",
       "      <td>0</td>\n",
       "      <td>1</td>\n",
       "      <td>1</td>\n",
       "      <td>0</td>\n",
       "    </tr>\n",
       "    <tr>\n",
       "      <th>3</th>\n",
       "      <td>4</td>\n",
       "      <td>6256451</td>\n",
       "      <td>41</td>\n",
       "      <td>2</td>\n",
       "      <td>2</td>\n",
       "      <td>12</td>\n",
       "      <td>1</td>\n",
       "      <td>15.649124</td>\n",
       "      <td>0.142550</td>\n",
       "      <td>0.148427</td>\n",
       "      <td>0.326194</td>\n",
       "      <td>0</td>\n",
       "      <td>1</td>\n",
       "      <td>0</td>\n",
       "      <td>0</td>\n",
       "      <td>1</td>\n",
       "      <td>0</td>\n",
       "      <td>1</td>\n",
       "    </tr>\n",
       "    <tr>\n",
       "      <th>4</th>\n",
       "      <td>5</td>\n",
       "      <td>5768871</td>\n",
       "      <td>47</td>\n",
       "      <td>11</td>\n",
       "      <td>3</td>\n",
       "      <td>14</td>\n",
       "      <td>1</td>\n",
       "      <td>15.567987</td>\n",
       "      <td>0.103163</td>\n",
       "      <td>0.115794</td>\n",
       "      <td>0.121137</td>\n",
       "      <td>0</td>\n",
       "      <td>1</td>\n",
       "      <td>0</td>\n",
       "      <td>0</td>\n",
       "      <td>1</td>\n",
       "      <td>1</td>\n",
       "      <td>0</td>\n",
       "    </tr>\n",
       "  </tbody>\n",
       "</table>\n",
       "</div>"
      ],
      "text/plain": [
       "   Id   income  age  experience  current_job_years  current_house_years  \\\n",
       "0   1  1303835   23           3                  3                   13   \n",
       "1   2  7574516   40          10                  9                   13   \n",
       "2   3  3991815   66           4                  4                   10   \n",
       "3   4  6256451   41           2                  2                   12   \n",
       "4   5  5768871   47          11                  3                   14   \n",
       "\n",
       "   risk_flag  income_log  state_risk_percent  profession_risk_percent  \\\n",
       "0          0   14.080820            0.154369                 0.113552   \n",
       "1          0   15.840300            0.113254                 0.148427   \n",
       "2          0   15.199757            0.167097                 0.134167   \n",
       "3          1   15.649124            0.142550                 0.148427   \n",
       "4          1   15.567987            0.103163                 0.115794   \n",
       "\n",
       "   city_risk_percent  married_married  married_single  \\\n",
       "0           0.121554                0               1   \n",
       "1           0.122497                0               1   \n",
       "2           0.130814                1               0   \n",
       "3           0.326194                0               1   \n",
       "4           0.121137                0               1   \n",
       "\n",
       "   house_ownership_norent_noown  house_ownership_owned  \\\n",
       "0                             0                      0   \n",
       "1                             0                      0   \n",
       "2                             0                      0   \n",
       "3                             0                      0   \n",
       "4                             0                      0   \n",
       "\n",
       "   house_ownership_rented  car_ownership_no  car_ownership_yes  \n",
       "0                       1                 1                  0  \n",
       "1                       1                 1                  0  \n",
       "2                       1                 1                  0  \n",
       "3                       1                 0                  1  \n",
       "4                       1                 1                  0  "
      ]
     },
     "execution_count": 32,
     "metadata": {},
     "output_type": "execute_result"
    }
   ],
   "source": [
    "train.head()"
   ]
  },
  {
   "cell_type": "code",
   "execution_count": 33,
   "metadata": {},
   "outputs": [
    {
     "data": {
      "text/plain": [
       "array([0, 1], dtype=uint64)"
      ]
     },
     "execution_count": 33,
     "metadata": {},
     "output_type": "execute_result"
    }
   ],
   "source": [
    "train['house_ownership_norent_noown'].unique()"
   ]
  },
  {
   "cell_type": "code",
   "execution_count": 34,
   "metadata": {},
   "outputs": [],
   "source": [
    "train.drop(['married_single'],axis =1 ,inplace =True)\n",
    "train.drop(['car_ownership_yes'],axis =1 ,inplace =True)\n",
    "train.drop(['house_ownership_norent_noown'],axis =1, inplace =True)\n",
    "train.drop(['income'],axis =1 ,inplace =True)\n",
    "test.drop(['married_single'],axis =1 ,inplace =True)\n",
    "test.drop(['car_ownership_yes'],axis =1 ,inplace =True)\n",
    "test.drop(['house_ownership_norent_noown'],axis =1, inplace =True)\n",
    "test.drop(['income'],axis =1 ,inplace =True)"
   ]
  },
  {
   "cell_type": "code",
   "execution_count": 35,
   "metadata": {},
   "outputs": [
    {
     "data": {
      "text/html": [
       "<div>\n",
       "<style scoped>\n",
       "    .dataframe tbody tr th:only-of-type {\n",
       "        vertical-align: middle;\n",
       "    }\n",
       "\n",
       "    .dataframe tbody tr th {\n",
       "        vertical-align: top;\n",
       "    }\n",
       "\n",
       "    .dataframe thead th {\n",
       "        text-align: right;\n",
       "    }\n",
       "</style>\n",
       "<table border=\"1\" class=\"dataframe\">\n",
       "  <thead>\n",
       "    <tr style=\"text-align: right;\">\n",
       "      <th></th>\n",
       "      <th>Id</th>\n",
       "      <th>age</th>\n",
       "      <th>experience</th>\n",
       "      <th>current_job_years</th>\n",
       "      <th>current_house_years</th>\n",
       "      <th>risk_flag</th>\n",
       "      <th>income_log</th>\n",
       "      <th>state_risk_percent</th>\n",
       "      <th>profession_risk_percent</th>\n",
       "      <th>city_risk_percent</th>\n",
       "      <th>married_married</th>\n",
       "      <th>house_ownership_owned</th>\n",
       "      <th>house_ownership_rented</th>\n",
       "      <th>car_ownership_no</th>\n",
       "    </tr>\n",
       "  </thead>\n",
       "  <tbody>\n",
       "    <tr>\n",
       "      <th>0</th>\n",
       "      <td>1</td>\n",
       "      <td>23</td>\n",
       "      <td>3</td>\n",
       "      <td>3</td>\n",
       "      <td>13</td>\n",
       "      <td>0</td>\n",
       "      <td>14.080820</td>\n",
       "      <td>0.154369</td>\n",
       "      <td>0.113552</td>\n",
       "      <td>0.121554</td>\n",
       "      <td>0</td>\n",
       "      <td>0</td>\n",
       "      <td>1</td>\n",
       "      <td>1</td>\n",
       "    </tr>\n",
       "    <tr>\n",
       "      <th>1</th>\n",
       "      <td>2</td>\n",
       "      <td>40</td>\n",
       "      <td>10</td>\n",
       "      <td>9</td>\n",
       "      <td>13</td>\n",
       "      <td>0</td>\n",
       "      <td>15.840300</td>\n",
       "      <td>0.113254</td>\n",
       "      <td>0.148427</td>\n",
       "      <td>0.122497</td>\n",
       "      <td>0</td>\n",
       "      <td>0</td>\n",
       "      <td>1</td>\n",
       "      <td>1</td>\n",
       "    </tr>\n",
       "    <tr>\n",
       "      <th>2</th>\n",
       "      <td>3</td>\n",
       "      <td>66</td>\n",
       "      <td>4</td>\n",
       "      <td>4</td>\n",
       "      <td>10</td>\n",
       "      <td>0</td>\n",
       "      <td>15.199757</td>\n",
       "      <td>0.167097</td>\n",
       "      <td>0.134167</td>\n",
       "      <td>0.130814</td>\n",
       "      <td>1</td>\n",
       "      <td>0</td>\n",
       "      <td>1</td>\n",
       "      <td>1</td>\n",
       "    </tr>\n",
       "    <tr>\n",
       "      <th>3</th>\n",
       "      <td>4</td>\n",
       "      <td>41</td>\n",
       "      <td>2</td>\n",
       "      <td>2</td>\n",
       "      <td>12</td>\n",
       "      <td>1</td>\n",
       "      <td>15.649124</td>\n",
       "      <td>0.142550</td>\n",
       "      <td>0.148427</td>\n",
       "      <td>0.326194</td>\n",
       "      <td>0</td>\n",
       "      <td>0</td>\n",
       "      <td>1</td>\n",
       "      <td>0</td>\n",
       "    </tr>\n",
       "    <tr>\n",
       "      <th>4</th>\n",
       "      <td>5</td>\n",
       "      <td>47</td>\n",
       "      <td>11</td>\n",
       "      <td>3</td>\n",
       "      <td>14</td>\n",
       "      <td>1</td>\n",
       "      <td>15.567987</td>\n",
       "      <td>0.103163</td>\n",
       "      <td>0.115794</td>\n",
       "      <td>0.121137</td>\n",
       "      <td>0</td>\n",
       "      <td>0</td>\n",
       "      <td>1</td>\n",
       "      <td>1</td>\n",
       "    </tr>\n",
       "  </tbody>\n",
       "</table>\n",
       "</div>"
      ],
      "text/plain": [
       "   Id  age  experience  current_job_years  current_house_years  risk_flag  \\\n",
       "0   1   23           3                  3                   13          0   \n",
       "1   2   40          10                  9                   13          0   \n",
       "2   3   66           4                  4                   10          0   \n",
       "3   4   41           2                  2                   12          1   \n",
       "4   5   47          11                  3                   14          1   \n",
       "\n",
       "   income_log  state_risk_percent  profession_risk_percent  city_risk_percent  \\\n",
       "0   14.080820            0.154369                 0.113552           0.121554   \n",
       "1   15.840300            0.113254                 0.148427           0.122497   \n",
       "2   15.199757            0.167097                 0.134167           0.130814   \n",
       "3   15.649124            0.142550                 0.148427           0.326194   \n",
       "4   15.567987            0.103163                 0.115794           0.121137   \n",
       "\n",
       "   married_married  house_ownership_owned  house_ownership_rented  \\\n",
       "0                0                      0                       1   \n",
       "1                0                      0                       1   \n",
       "2                1                      0                       1   \n",
       "3                0                      0                       1   \n",
       "4                0                      0                       1   \n",
       "\n",
       "   car_ownership_no  \n",
       "0                 1  \n",
       "1                 1  \n",
       "2                 1  \n",
       "3                 0  \n",
       "4                 1  "
      ]
     },
     "execution_count": 35,
     "metadata": {},
     "output_type": "execute_result"
    }
   ],
   "source": [
    "train.head()"
   ]
  },
  {
   "cell_type": "code",
   "execution_count": 36,
   "metadata": {},
   "outputs": [
    {
     "data": {
      "text/plain": [
       "(252000, 13)"
      ]
     },
     "execution_count": 36,
     "metadata": {},
     "output_type": "execute_result"
    }
   ],
   "source": [
    "y = train[['risk_flag']]\n",
    "X= train.loc[:, train.columns != 'risk_flag']\n",
    "X.shape"
   ]
  },
  {
   "cell_type": "code",
   "execution_count": 37,
   "metadata": {},
   "outputs": [
    {
     "data": {
      "text/plain": [
       "Index(['Id', 'age', 'experience', 'current_job_years', 'current_house_years',\n",
       "       'income_log', 'state_risk_percent', 'profession_risk_percent',\n",
       "       'city_risk_percent', 'married_married', 'house_ownership_owned',\n",
       "       'house_ownership_rented', 'car_ownership_no'],\n",
       "      dtype='object')"
      ]
     },
     "execution_count": 37,
     "metadata": {},
     "output_type": "execute_result"
    }
   ],
   "source": [
    "X.columns"
   ]
  },
  {
   "cell_type": "code",
   "execution_count": 38,
   "metadata": {},
   "outputs": [
    {
     "data": {
      "text/html": [
       "<div>\n",
       "<style scoped>\n",
       "    .dataframe tbody tr th:only-of-type {\n",
       "        vertical-align: middle;\n",
       "    }\n",
       "\n",
       "    .dataframe tbody tr th {\n",
       "        vertical-align: top;\n",
       "    }\n",
       "\n",
       "    .dataframe thead th {\n",
       "        text-align: right;\n",
       "    }\n",
       "</style>\n",
       "<table border=\"1\" class=\"dataframe\">\n",
       "  <thead>\n",
       "    <tr style=\"text-align: right;\">\n",
       "      <th></th>\n",
       "      <th>Id</th>\n",
       "      <th>age</th>\n",
       "      <th>experience</th>\n",
       "      <th>current_job_years</th>\n",
       "      <th>current_house_years</th>\n",
       "      <th>income_log</th>\n",
       "      <th>state_risk_percent</th>\n",
       "      <th>profession_risk_percent</th>\n",
       "      <th>city_risk_percent</th>\n",
       "      <th>married_married</th>\n",
       "      <th>house_ownership_owned</th>\n",
       "      <th>house_ownership_rented</th>\n",
       "      <th>car_ownership_no</th>\n",
       "    </tr>\n",
       "  </thead>\n",
       "  <tbody>\n",
       "    <tr>\n",
       "      <th>0</th>\n",
       "      <td>1</td>\n",
       "      <td>23</td>\n",
       "      <td>3</td>\n",
       "      <td>3</td>\n",
       "      <td>13</td>\n",
       "      <td>14.080820</td>\n",
       "      <td>0.154369</td>\n",
       "      <td>0.113552</td>\n",
       "      <td>0.121554</td>\n",
       "      <td>0</td>\n",
       "      <td>0</td>\n",
       "      <td>1</td>\n",
       "      <td>1</td>\n",
       "    </tr>\n",
       "    <tr>\n",
       "      <th>1</th>\n",
       "      <td>2</td>\n",
       "      <td>40</td>\n",
       "      <td>10</td>\n",
       "      <td>9</td>\n",
       "      <td>13</td>\n",
       "      <td>15.840300</td>\n",
       "      <td>0.113254</td>\n",
       "      <td>0.148427</td>\n",
       "      <td>0.122497</td>\n",
       "      <td>0</td>\n",
       "      <td>0</td>\n",
       "      <td>1</td>\n",
       "      <td>1</td>\n",
       "    </tr>\n",
       "    <tr>\n",
       "      <th>2</th>\n",
       "      <td>3</td>\n",
       "      <td>66</td>\n",
       "      <td>4</td>\n",
       "      <td>4</td>\n",
       "      <td>10</td>\n",
       "      <td>15.199757</td>\n",
       "      <td>0.167097</td>\n",
       "      <td>0.134167</td>\n",
       "      <td>0.130814</td>\n",
       "      <td>1</td>\n",
       "      <td>0</td>\n",
       "      <td>1</td>\n",
       "      <td>1</td>\n",
       "    </tr>\n",
       "    <tr>\n",
       "      <th>3</th>\n",
       "      <td>4</td>\n",
       "      <td>41</td>\n",
       "      <td>2</td>\n",
       "      <td>2</td>\n",
       "      <td>12</td>\n",
       "      <td>15.649124</td>\n",
       "      <td>0.142550</td>\n",
       "      <td>0.148427</td>\n",
       "      <td>0.326194</td>\n",
       "      <td>0</td>\n",
       "      <td>0</td>\n",
       "      <td>1</td>\n",
       "      <td>0</td>\n",
       "    </tr>\n",
       "    <tr>\n",
       "      <th>4</th>\n",
       "      <td>5</td>\n",
       "      <td>47</td>\n",
       "      <td>11</td>\n",
       "      <td>3</td>\n",
       "      <td>14</td>\n",
       "      <td>15.567987</td>\n",
       "      <td>0.103163</td>\n",
       "      <td>0.115794</td>\n",
       "      <td>0.121137</td>\n",
       "      <td>0</td>\n",
       "      <td>0</td>\n",
       "      <td>1</td>\n",
       "      <td>1</td>\n",
       "    </tr>\n",
       "  </tbody>\n",
       "</table>\n",
       "</div>"
      ],
      "text/plain": [
       "   Id  age  experience  current_job_years  current_house_years  income_log  \\\n",
       "0   1   23           3                  3                   13   14.080820   \n",
       "1   2   40          10                  9                   13   15.840300   \n",
       "2   3   66           4                  4                   10   15.199757   \n",
       "3   4   41           2                  2                   12   15.649124   \n",
       "4   5   47          11                  3                   14   15.567987   \n",
       "\n",
       "   state_risk_percent  profession_risk_percent  city_risk_percent  \\\n",
       "0            0.154369                 0.113552           0.121554   \n",
       "1            0.113254                 0.148427           0.122497   \n",
       "2            0.167097                 0.134167           0.130814   \n",
       "3            0.142550                 0.148427           0.326194   \n",
       "4            0.103163                 0.115794           0.121137   \n",
       "\n",
       "   married_married  house_ownership_owned  house_ownership_rented  \\\n",
       "0                0                      0                       1   \n",
       "1                0                      0                       1   \n",
       "2                1                      0                       1   \n",
       "3                0                      0                       1   \n",
       "4                0                      0                       1   \n",
       "\n",
       "   car_ownership_no  \n",
       "0                 1  \n",
       "1                 1  \n",
       "2                 1  \n",
       "3                 0  \n",
       "4                 1  "
      ]
     },
     "execution_count": 38,
     "metadata": {},
     "output_type": "execute_result"
    }
   ],
   "source": [
    "X.head()"
   ]
  },
  {
   "cell_type": "code",
   "execution_count": 39,
   "metadata": {},
   "outputs": [
    {
     "data": {
      "text/html": [
       "<div>\n",
       "<style scoped>\n",
       "    .dataframe tbody tr th:only-of-type {\n",
       "        vertical-align: middle;\n",
       "    }\n",
       "\n",
       "    .dataframe tbody tr th {\n",
       "        vertical-align: top;\n",
       "    }\n",
       "\n",
       "    .dataframe thead th {\n",
       "        text-align: right;\n",
       "    }\n",
       "</style>\n",
       "<table border=\"1\" class=\"dataframe\">\n",
       "  <thead>\n",
       "    <tr style=\"text-align: right;\">\n",
       "      <th></th>\n",
       "      <th>Id</th>\n",
       "      <th>age</th>\n",
       "      <th>experience</th>\n",
       "      <th>current_job_years</th>\n",
       "      <th>current_house_years</th>\n",
       "      <th>income_log</th>\n",
       "      <th>state_risk_percent</th>\n",
       "      <th>profession_risk_percent</th>\n",
       "      <th>city_risk_percent</th>\n",
       "      <th>married_married</th>\n",
       "      <th>house_ownership_owned</th>\n",
       "      <th>house_ownership_rented</th>\n",
       "      <th>car_ownership_no</th>\n",
       "    </tr>\n",
       "  </thead>\n",
       "  <tbody>\n",
       "    <tr>\n",
       "      <th>0</th>\n",
       "      <td>1</td>\n",
       "      <td>23</td>\n",
       "      <td>3</td>\n",
       "      <td>3</td>\n",
       "      <td>13</td>\n",
       "      <td>14.080820</td>\n",
       "      <td>0.154369</td>\n",
       "      <td>0.113552</td>\n",
       "      <td>0.121554</td>\n",
       "      <td>0</td>\n",
       "      <td>0</td>\n",
       "      <td>1</td>\n",
       "      <td>1</td>\n",
       "    </tr>\n",
       "    <tr>\n",
       "      <th>1</th>\n",
       "      <td>2</td>\n",
       "      <td>40</td>\n",
       "      <td>10</td>\n",
       "      <td>9</td>\n",
       "      <td>13</td>\n",
       "      <td>15.840300</td>\n",
       "      <td>0.113254</td>\n",
       "      <td>0.148427</td>\n",
       "      <td>0.122497</td>\n",
       "      <td>0</td>\n",
       "      <td>0</td>\n",
       "      <td>1</td>\n",
       "      <td>1</td>\n",
       "    </tr>\n",
       "    <tr>\n",
       "      <th>2</th>\n",
       "      <td>3</td>\n",
       "      <td>66</td>\n",
       "      <td>4</td>\n",
       "      <td>4</td>\n",
       "      <td>10</td>\n",
       "      <td>15.199757</td>\n",
       "      <td>0.167097</td>\n",
       "      <td>0.134167</td>\n",
       "      <td>0.130814</td>\n",
       "      <td>1</td>\n",
       "      <td>0</td>\n",
       "      <td>1</td>\n",
       "      <td>1</td>\n",
       "    </tr>\n",
       "    <tr>\n",
       "      <th>3</th>\n",
       "      <td>4</td>\n",
       "      <td>41</td>\n",
       "      <td>2</td>\n",
       "      <td>2</td>\n",
       "      <td>12</td>\n",
       "      <td>15.649124</td>\n",
       "      <td>0.142550</td>\n",
       "      <td>0.148427</td>\n",
       "      <td>0.326194</td>\n",
       "      <td>0</td>\n",
       "      <td>0</td>\n",
       "      <td>1</td>\n",
       "      <td>0</td>\n",
       "    </tr>\n",
       "    <tr>\n",
       "      <th>4</th>\n",
       "      <td>5</td>\n",
       "      <td>47</td>\n",
       "      <td>11</td>\n",
       "      <td>3</td>\n",
       "      <td>14</td>\n",
       "      <td>15.567987</td>\n",
       "      <td>0.103163</td>\n",
       "      <td>0.115794</td>\n",
       "      <td>0.121137</td>\n",
       "      <td>0</td>\n",
       "      <td>0</td>\n",
       "      <td>1</td>\n",
       "      <td>1</td>\n",
       "    </tr>\n",
       "  </tbody>\n",
       "</table>\n",
       "</div>"
      ],
      "text/plain": [
       "   Id  age  experience  current_job_years  current_house_years  income_log  \\\n",
       "0   1   23           3                  3                   13   14.080820   \n",
       "1   2   40          10                  9                   13   15.840300   \n",
       "2   3   66           4                  4                   10   15.199757   \n",
       "3   4   41           2                  2                   12   15.649124   \n",
       "4   5   47          11                  3                   14   15.567987   \n",
       "\n",
       "   state_risk_percent  profession_risk_percent  city_risk_percent  \\\n",
       "0            0.154369                 0.113552           0.121554   \n",
       "1            0.113254                 0.148427           0.122497   \n",
       "2            0.167097                 0.134167           0.130814   \n",
       "3            0.142550                 0.148427           0.326194   \n",
       "4            0.103163                 0.115794           0.121137   \n",
       "\n",
       "   married_married  house_ownership_owned  house_ownership_rented  \\\n",
       "0                0                      0                       1   \n",
       "1                0                      0                       1   \n",
       "2                1                      0                       1   \n",
       "3                0                      0                       1   \n",
       "4                0                      0                       1   \n",
       "\n",
       "   car_ownership_no  \n",
       "0                 1  \n",
       "1                 1  \n",
       "2                 1  \n",
       "3                 0  \n",
       "4                 1  "
      ]
     },
     "execution_count": 39,
     "metadata": {},
     "output_type": "execute_result"
    }
   ],
   "source": [
    "X = pd.get_dummies(X)\n",
    "X.head()"
   ]
  },
  {
   "cell_type": "code",
   "execution_count": 40,
   "metadata": {},
   "outputs": [],
   "source": [
    "from sklearn.model_selection import train_test_split\n",
    "X_train, X_test, y_train, y_test = train_test_split(X, y, test_size = 0.20, random_state = 101)\n",
    "from sklearn import model_selection\n",
    "from sklearn.model_selection import KFold\n",
    "from sklearn.model_selection import cross_val_score\n",
    "from sklearn.metrics import confusion_matrix, accuracy_score\n",
    "k_fold = KFold(n_splits=10, shuffle=True, random_state= 100)\n",
    "#cv_split = model_selection.ShuffleSplit(n_splits = 10, test_size = .3, train_size = .6, random_state = 0 )"
   ]
  },
  {
   "cell_type": "code",
   "execution_count": 41,
   "metadata": {},
   "outputs": [
    {
     "data": {
      "text/plain": [
       "Index(['age', 'experience', 'current_job_years', 'current_house_years',\n",
       "       'income_log', 'state_risk_percent', 'profession_risk_percent',\n",
       "       'city_risk_percent', 'married_married', 'house_ownership_owned',\n",
       "       'house_ownership_rented', 'car_ownership_no'],\n",
       "      dtype='object')"
      ]
     },
     "execution_count": 41,
     "metadata": {},
     "output_type": "execute_result"
    }
   ],
   "source": [
    "X_train.drop(['Id'], axis =1).columns"
   ]
  },
  {
   "cell_type": "code",
   "execution_count": 42,
   "metadata": {},
   "outputs": [
    {
     "name": "stdout",
     "output_type": "stream",
     "text": [
      "[[39270  4979]\n",
      " [ 1141  5010]]\n"
     ]
    }
   ],
   "source": [
    "from sklearn.tree import DecisionTreeClassifier\n",
    "dtree_model = DecisionTreeClassifier(random_state= 0,class_weight ='balanced')\n",
    "dtree_model.fit(X_train.drop(['Id'], axis =1),y_train)\n",
    "dtree_pred = dtree_model.predict(X_test.drop(['Id'], axis =1))\n",
    "print(confusion_matrix(y_test, dtree_pred))"
   ]
  },
  {
   "cell_type": "code",
   "execution_count": 43,
   "metadata": {},
   "outputs": [
    {
     "name": "stdout",
     "output_type": "stream",
     "text": [
      "             precision    recall  f1-score   support\n",
      "\n",
      "          0       1.00      0.91      0.96    176755\n",
      "          1       0.62      1.00      0.77     24845\n",
      "\n",
      "avg / total       0.95      0.93      0.93    201600\n",
      "\n"
     ]
    }
   ],
   "source": [
    "from sklearn.metrics import classification_report\n",
    "y_pred__train = dtree_model.predict(X_train.drop(['Id'], axis =1))\n",
    "print(classification_report(y_train, y_pred__train))"
   ]
  },
  {
   "cell_type": "code",
   "execution_count": 44,
   "metadata": {},
   "outputs": [
    {
     "name": "stdout",
     "output_type": "stream",
     "text": [
      "             precision    recall  f1-score   support\n",
      "\n",
      "          0       0.97      0.89      0.93     44249\n",
      "          1       0.50      0.81      0.62      6151\n",
      "\n",
      "avg / total       0.91      0.88      0.89     50400\n",
      "\n"
     ]
    }
   ],
   "source": [
    "from sklearn.metrics import classification_report\n",
    "y_pred = dtree_model.predict(X_test.drop(['Id'], axis =1))\n",
    "print(classification_report(y_test, y_pred))"
   ]
  },
  {
   "cell_type": "code",
   "execution_count": 45,
   "metadata": {},
   "outputs": [],
   "source": [
    "from sklearn.metrics import roc_auc_score"
   ]
  },
  {
   "cell_type": "code",
   "execution_count": 46,
   "metadata": {},
   "outputs": [
    {
     "name": "stdout",
     "output_type": "stream",
     "text": [
      "0.9574118329717912\n"
     ]
    }
   ],
   "source": [
    "print(roc_auc_score(y_train, y_pred__train))"
   ]
  },
  {
   "cell_type": "code",
   "execution_count": 47,
   "metadata": {},
   "outputs": [
    {
     "name": "stdout",
     "output_type": "stream",
     "text": [
      "0.8509896950754943\n"
     ]
    }
   ],
   "source": [
    "print(roc_auc_score(y_test, y_pred))"
   ]
  },
  {
   "cell_type": "code",
   "execution_count": 48,
   "metadata": {},
   "outputs": [],
   "source": [
    "test['risk_flag'] = dtree_model.predict(test.drop(['id'],axis = 1))"
   ]
  },
  {
   "cell_type": "code",
   "execution_count": 49,
   "metadata": {},
   "outputs": [
    {
     "data": {
      "text/plain": [
       "0    22399\n",
       "1     5601\n",
       "Name: risk_flag, dtype: int64"
      ]
     },
     "execution_count": 49,
     "metadata": {},
     "output_type": "execute_result"
    }
   ],
   "source": [
    "test['risk_flag'].value_counts()"
   ]
  },
  {
   "cell_type": "code",
   "execution_count": 355,
   "metadata": {},
   "outputs": [],
   "source": [
    "submit = test.loc[:, ['id', 'risk_flag']]\n",
    "\n",
    "# Save the submission dataframe\n",
    "submit.to_csv('predictions', index = False)"
   ]
  },
  {
   "cell_type": "code",
   "execution_count": null,
   "metadata": {},
   "outputs": [],
   "source": []
  }
 ],
 "metadata": {
  "kernelspec": {
   "display_name": "Python 3",
   "language": "python",
   "name": "python3"
  },
  "language_info": {
   "codemirror_mode": {
    "name": "ipython",
    "version": 3
   },
   "file_extension": ".py",
   "mimetype": "text/x-python",
   "name": "python",
   "nbconvert_exporter": "python",
   "pygments_lexer": "ipython3",
   "version": "3.6.5"
  }
 },
 "nbformat": 4,
 "nbformat_minor": 2
}
